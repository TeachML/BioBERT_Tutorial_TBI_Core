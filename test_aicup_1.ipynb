{
 "cells": [
  {
   "cell_type": "markdown",
   "metadata": {},
   "source": [
    "# Performance on AI CUP NER Task\n",
    "\n",
    "\n",
    "|  Type                 |          complete match          |       right boundary match       |       left boundary match        |\n",
    "| ------------------- | ---------------------------------- | ---------------------------------- | ---------------------------------- | \n",
    "|   Gene    ( 9002) |  7873 (87.46% / 82.88% / 85.11%) |  8236 (91.49% / 86.70% / 89.03%) |  8228 (91.40% / 86.62% / 88.95%) |\n",
    "| Chemical  ( 3861) |  3144 (81.43% / 78.35% / 79.86%) |  3229 (83.63% / 80.46% / 82.02%) |  3238 (83.86% / 80.69% / 82.25%) |\n",
    "|  Disease  ( 4224) |  3521 (83.36% / 79.71% / 81.50%) |  3743 (88.61% / 84.74% / 86.63%) |  3659 (86.62% / 82.84% / 84.69%) |\n",
    "| Partial_G (   53) |    25 (47.17% / 73.53% / 57.47%) |    25 (47.17% / 73.53% / 57.47%) |    25 (47.17% / 73.53% / 57.47%) |\n",
    "|  [-ALL-]  (17140) | 14563 (84.96% / 81.07% / 82.97%) | 15233 (88.87% / 84.80% / 86.79%) | 15150 (88.39% / 84.34% / 86.32%) |\n"
   ]
  },
  {
   "cell_type": "code",
   "execution_count": null,
   "metadata": {},
   "outputs": [],
   "source": [
    "import torch\n",
    "import logging\n",
    "from spacy import displacy\n",
    "\n",
    "import tokenization\n",
    "from modeling import BertConfig, BertForNER\n",
    "from run_bioner import convert_examples_to_features, InputExample, AICupProcessor\n",
    "\n",
    "logger = logging.getLogger('run_bioner')\n",
    "logger.setLevel(logging.WARNING)\n",
    "bert_config_file = \"pretrained_model/bert_config_bioner.json\"\n",
    "bert_config = BertConfig.from_json_file(bert_config_file)\n",
    "vocab_file = \"pretrained_model/vocab.txt\"\n",
    "processor = AICupProcessor()\n",
    "label_list = processor.get_labels()\n",
    "tokenizer = tokenization.FullTokenizer(vocab_file=vocab_file, do_lower_case=False)\n",
    "\n",
    "max_seq_length = 400\n",
    "device = 'cpu' # 'cuda' or 'cpu'\n",
    "init_checkpoint = \"model_step_2564.pt\"\n",
    "\n",
    "model = BertForNER(bert_config, len(label_list))\n",
    "model_params_dict = model.state_dict()\n",
    "pretrained_dict = torch.load(init_checkpoint, map_location='cpu')\n",
    "model_params_dict.update(pretrained_dict)\n",
    "model.load_state_dict(model_params_dict)\n",
    "model.eval()\n",
    "model.to(device)\n",
    "print(\"Loaded model\")\n"
   ]
  },
  {
   "cell_type": "code",
   "execution_count": null,
   "metadata": {},
   "outputs": [],
   "source": [
    "def get_model_predictions(model, sentence, label_id_to_name, device='cpu'):\n",
    "\n",
    "    sentence = sentence.split()\n",
    "    input_example = InputExample(1, sentence ,label=['O']*len(sentence))\n",
    "    tmp_feats = convert_examples_to_features([input_example, ], label_list, max_seq_length, tokenizer)\n",
    "    tmp_input_ids = torch.tensor([f.input_ids for f in tmp_feats], dtype=torch.long).to(device)\n",
    "    tmp_input_mask = torch.tensor([f.input_mask for f in tmp_feats], dtype=torch.long).to(device)\n",
    "    tmp_segment_ids = torch.tensor([f.segment_ids for f in tmp_feats], dtype=torch.long).to(device)\n",
    "    \n",
    "    with torch.no_grad():\n",
    "        logits = model(tmp_input_ids, tmp_segment_ids, tmp_input_mask)\n",
    "    logits = logits[0]\n",
    "    pred_labels_id = logits.argmax(dim=-1)\n",
    "    \n",
    "    if pred_labels_id.device != 'cpu':\n",
    "        pred_labels_id = pred_labels_id.cpu()\n",
    "    pred_labels_id = pred_labels_id.numpy().tolist()\n",
    "    pred_labels = [label_id_to_name[l] for l in pred_labels_id]\n",
    "    pred_labels = pred_labels[1:]\n",
    "    sent_toks = input_example.text_a\n",
    "    sent_toks_map = input_example.text_a_map\n",
    "\n",
    "    restored_tags = []\n",
    "    for i_prd, pred_ne_tag in enumerate(pred_labels):\n",
    "        if i_prd >= len(sent_toks_map):\n",
    "            break\n",
    "        if (i_prd > 0) and (sent_toks_map[i_prd - 1] == sent_toks_map[i_prd]):\n",
    "            continue\n",
    "        restored_tags.append(pred_ne_tag)\n",
    "    return zip(sent_toks, restored_tags)\n"
   ]
  },
  {
   "cell_type": "code",
   "execution_count": null,
   "metadata": {},
   "outputs": [],
   "source": [
    "sentence = \"Lenalidomide induces degradation of the lymphoid transcription factors Ikaros and Aiolos ( also known as IKZF1 and IKZF3 ) , and casein kinase 1α ( CK1α ) , which contributes to its clinical efficacy in the treatment of multiple myeloma and 5q-deletion associated myelodysplastic syndrome ( del ( 5q ) MDS ) , respectively .\"\n",
    "\n",
    "with torch.no_grad():\n",
    "    predictions =  get_model_predictions(model, sentence, label_list, device)\n",
    "    predictions = list(predictions)"
   ]
  },
  {
   "cell_type": "code",
   "execution_count": null,
   "metadata": {},
   "outputs": [],
   "source": [
    "dis_colors = {\n",
    "            \"GENE\": \"#7aecec\",\n",
    "            \"PARTIAL_GENE\": \"#bfeeb7\",\n",
    "            \"DISEASE\": \"#feca74\",\n",
    "            \"CHEMICAL\": \"#ff9561\",\n",
    "        }\n",
    "dis_options = {\"colors\": dis_colors}\n",
    "\n",
    "dis_ents = []\n",
    "curr_pos = 0\n",
    "for (word, ent_label) in predictions:\n",
    "    if ent_label.startswith(\"B\"):\n",
    "        dis_ents.append({\"start\": curr_pos, \"end\": curr_pos + len(word), \"label\": ent_label[2:]})\n",
    "    if ent_label.startswith(\"I\"):\n",
    "        dis_ents[-1][\"end\"] += len(word) + 1\n",
    "    curr_pos += len(word)\n",
    "    curr_pos += 1\n",
    "    \n",
    "dis_sentence = {\n",
    "    \"text\": sentence,\n",
    "    \"ents\": dis_ents,\n",
    "}"
   ]
  },
  {
   "cell_type": "code",
   "execution_count": null,
   "metadata": {},
   "outputs": [],
   "source": [
    "displacy.render(dis_sentence, style=\"ent\", manual=True, jupyter=True, options=dis_options)"
   ]
  },
  {
   "cell_type": "code",
   "execution_count": null,
   "metadata": {},
   "outputs": [],
   "source": []
  }
 ],
 "metadata": {
  "kernelspec": {
   "display_name": "Python 3",
   "language": "python",
   "name": "python3"
  },
  "language_info": {
   "codemirror_mode": {
    "name": "ipython",
    "version": 3
   },
   "file_extension": ".py",
   "mimetype": "text/x-python",
   "name": "python",
   "nbconvert_exporter": "python",
   "pygments_lexer": "ipython3",
   "version": "3.6.5"
  }
 },
 "nbformat": 4,
 "nbformat_minor": 2
}
